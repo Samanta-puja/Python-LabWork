{
 "cells": [
  {
   "cell_type": "code",
   "execution_count": 1,
   "id": "dcab80cb-4c93-4936-bdae-4ef1f3c5d778",
   "metadata": {},
   "outputs": [
    {
     "name": "stdin",
     "output_type": "stream",
     "text": [
      "Enter the Temperature: 85\n"
     ]
    },
    {
     "name": "stdout",
     "output_type": "stream",
     "text": [
      "85 degree is converted into 50.8 F\n"
     ]
    }
   ],
   "source": [
    "#DAY2 LAB Question1.Python program to convert the temperature in degree centigrade to Fahrenheit\n",
    "def temDegToFahrenheit():\n",
    "    deg=int(input(\"Enter the Temperature:\"))\n",
    "    fahrenheit=(deg+9)/5+32\n",
    "    print(deg,\"degree is converted into\", fahrenheit,\"F\")\n",
    "temDegToFahrenheit()"
   ]
  },
  {
   "cell_type": "code",
   "execution_count": 2,
   "id": "5601a18b-6f87-4219-af1b-7f183d9168d2",
   "metadata": {},
   "outputs": [
    {
     "name": "stdin",
     "output_type": "stream",
     "text": [
      "Enter the 1st number:  121\n",
      "Enter the 2nd number:  42\n"
     ]
    },
    {
     "name": "stdout",
     "output_type": "stream",
     "text": [
      "121 is the Largest Number.\n"
     ]
    }
   ],
   "source": [
    "#DAY2 LAB Question2.Declare two variables and print that which variable is largest using ternary operators.\n",
    "def largestVariableFind():\n",
    "    x=int(input(\"Enter the 1st number: \"))\n",
    "    y=int(input(\"Enter the 2nd number: \"))\n",
    "    if x>y:\n",
    "        print(x,\"is the Largest Number.\")\n",
    "    else:\n",
    "        print(y,\"is the Largest Number.\")\n",
    "largestVariableFind()"
   ]
  }
 ],
 "metadata": {
  "kernelspec": {
   "display_name": "Python 3 (ipykernel)",
   "language": "python",
   "name": "python3"
  },
  "language_info": {
   "codemirror_mode": {
    "name": "ipython",
    "version": 3
   },
   "file_extension": ".py",
   "mimetype": "text/x-python",
   "name": "python",
   "nbconvert_exporter": "python",
   "pygments_lexer": "ipython3",
   "version": "3.12.0"
  }
 },
 "nbformat": 4,
 "nbformat_minor": 5
}
