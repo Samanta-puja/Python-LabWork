{
 "cells": [
  {
   "cell_type": "code",
   "execution_count": 1,
   "id": "47beb48e-47fd-4a78-8a74-873b8ea5634e",
   "metadata": {},
   "outputs": [
    {
     "name": "stdin",
     "output_type": "stream",
     "text": [
      "Enter your text:  Hello I am Puja\n"
     ]
    },
    {
     "name": "stdout",
     "output_type": "stream",
     "text": [
      "['Hello', 'I', 'am', 'Puja']\n",
      "Reversed text : Puja am I Hello\n"
     ]
    }
   ],
   "source": [
    "#Q1.Write a Python program to reverse words in a string\n",
    "#input = “Hello how are you”\n",
    "#output = ”you are how hello”\n",
    "\n",
    "def reverse_string():\n",
    "    txt=input(\"Enter your text: \")\n",
    "    textSplit=txt.split()  #splits the sentence in word and stores in the list as a single word.\n",
    "    print(textSplit)\n",
    "    reversed_txt=\"\"\n",
    "    for i in reversed(textSplit):\n",
    "        reversed_txt=reversed_txt+i+\" \"  #1\n",
    "    print(\"Reversed text :\",reversed_txt[0:len(reversed_txt)-1])\n",
    "reverse_string()\n",
    "\n",
    "#1.Here,we are adding between every word. When,after the last word is printed, their is a default space.\n",
    "#  so,for avoid this space, we are taking len()-1 to avoid last printed space."
   ]
  },
  {
   "cell_type": "code",
   "execution_count": 2,
   "id": "41e7e248-95bd-4fd9-82b2-ce0f79aac891",
   "metadata": {},
   "outputs": [
    {
     "name": "stdin",
     "output_type": "stream",
     "text": [
      "Enter your text : Earth is so beautiful\n"
     ]
    },
    {
     "name": "stdout",
     "output_type": "stream",
     "text": [
      "Earth is so beautiful\n",
      "9\n"
     ]
    }
   ],
   "source": [
    "#Q2.Write a Python program to count and display the vowels of a given text\n",
    "#”Welcome to python Training”\n",
    "\n",
    "def vowel_count():\n",
    "    txt=input(\"Enter your text :\")\n",
    "    print(txt)\n",
    "    count_vowel=0\n",
    "    for i in txt:\n",
    "        if i==\"a\" or i==\"A\" or i==\"e\" or i==\"E\" or i==\"i\" or i==\"I\" or i==\"o\" or i==\"O\" or i==\"u\" or i==\"U\":\n",
    "            count_vowel=count_vowel+1\n",
    "    print(count_vowel)\n",
    "vowel_count()"
   ]
  },
  {
   "cell_type": "code",
   "execution_count": 3,
   "id": "906ae8a6-bf55-43f5-b960-a40fc5298d7a",
   "metadata": {},
   "outputs": [
    {
     "name": "stdin",
     "output_type": "stream",
     "text": [
      "Enter your sentence:  Samantapuja650@gmail.com\n"
     ]
    },
    {
     "name": "stdout",
     "output_type": "stream",
     "text": [
      "Samantapuja650@gmail.com\n",
      "UpperCase : 1\n",
      "LowerCase : 18\n",
      "NumberCase : 3\n",
      "SpecialCase : 2\n"
     ]
    }
   ],
   "source": [
    "#Q3.  Write a Python program to count Uppercase, Lowercase, special character and numeric values in a given string.\n",
    "# Input = “Hell0 W0rld ! 123 * # welcome to pYtHoN”\n",
    "#Output: UpperCase : 5, LowerCase : 18, NumberCase : 5, SpecialCase : 11\n",
    "\n",
    "def count_character():\n",
    "    sentence=str(input(\"Enter your sentence: \"))\n",
    "    print(sentence)\n",
    "    upper_count=0\n",
    "    lower_count=0\n",
    "    number_count=0\n",
    "    special_count=0\n",
    "    i=0\n",
    "    for i in sentence:\n",
    "        if i.isupper():\n",
    "            upper_count=upper_count+1\n",
    "        elif i.islower():\n",
    "            lower_count=lower_count+1\n",
    "        elif i.isdigit():\n",
    "            number_count=number_count+1\n",
    "        else:\n",
    "            special_count=special_count+1\n",
    "    print(\"UpperCase :\",upper_count)\n",
    "    print(\"LowerCase :\",lower_count)\n",
    "    print(\"NumberCase :\",number_count)\n",
    "    print(\"SpecialCase :\",special_count)\n",
    "    \n",
    "count_character()"
   ]
  }
 ],
 "metadata": {
  "kernelspec": {
   "display_name": "Python 3 (ipykernel)",
   "language": "python",
   "name": "python3"
  },
  "language_info": {
   "codemirror_mode": {
    "name": "ipython",
    "version": 3
   },
   "file_extension": ".py",
   "mimetype": "text/x-python",
   "name": "python",
   "nbconvert_exporter": "python",
   "pygments_lexer": "ipython3",
   "version": "3.12.0"
  }
 },
 "nbformat": 4,
 "nbformat_minor": 5
}
