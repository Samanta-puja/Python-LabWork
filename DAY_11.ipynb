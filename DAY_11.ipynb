{
 "cells": [
  {
   "cell_type": "code",
   "execution_count": 1,
   "id": "d86ce573-0ecf-4d37-9eab-568f65990533",
   "metadata": {},
   "outputs": [
    {
     "name": "stdin",
     "output_type": "stream",
     "text": [
      "Enter File Name: DAY-2\n"
     ]
    },
    {
     "name": "stdout",
     "output_type": "stream",
     "text": [
      "File Not Found\n"
     ]
    }
   ],
   "source": [
    "#Q1.Write a Python program that opens a file and handles a FileNotFoundError exception if the file does not exist.\n",
    "\n",
    "def fileRead():\n",
    "    filename=input(\"Enter File Name:\")\n",
    "    try:\n",
    "        myfile=open(filename,\"r\")\n",
    "        print(\"File opened successfully\")\n",
    "        myfile.close()\n",
    "    except FileNotFoundError:\n",
    "        print(\"File Not Found\")\n",
    "fileRead()"
   ]
  },
  {
   "cell_type": "code",
   "execution_count": 3,
   "id": "aa46800d-5d82-4c3e-9baf-1605545f7aa0",
   "metadata": {},
   "outputs": [
    {
     "name": "stdin",
     "output_type": "stream",
     "text": [
      "Enter 1st Number: y\n"
     ]
    },
    {
     "name": "stdout",
     "output_type": "stream",
     "text": [
      "Input is not a Number\n"
     ]
    }
   ],
   "source": [
    "#Q2.Write a Python program that prompts the user to input two numbers and raises a TypeError exception if the inputs are not numerical.\n",
    "\n",
    "def acceptNumber():\n",
    "    try:\n",
    "        x=int(input(\"Enter 1st Number:\"))\n",
    "        y=int(input(\"Enter 2nd Number:\"))\n",
    "        z=x+y\n",
    "        print(\"The Addition Result:\",z)\n",
    "    except ValueError:\n",
    "        print(\"Input is not a Number\")\n",
    "acceptNumber()"
   ]
  }
 ],
 "metadata": {
  "kernelspec": {
   "display_name": "Python 3 (ipykernel)",
   "language": "python",
   "name": "python3"
  },
  "language_info": {
   "codemirror_mode": {
    "name": "ipython",
    "version": 3
   },
   "file_extension": ".py",
   "mimetype": "text/x-python",
   "name": "python",
   "nbconvert_exporter": "python",
   "pygments_lexer": "ipython3",
   "version": "3.12.0"
  }
 },
 "nbformat": 4,
 "nbformat_minor": 5
}
