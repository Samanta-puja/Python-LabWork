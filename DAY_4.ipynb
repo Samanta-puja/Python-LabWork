{
 "cells": [
  {
   "cell_type": "code",
   "execution_count": 1,
   "id": "012090e6-ef6a-49e9-ba10-dc21f8a5fd08",
   "metadata": {},
   "outputs": [
    {
     "name": "stdin",
     "output_type": "stream",
     "text": [
      "Enter the Principal Amount :  100\n",
      "Enter the rate of interest :  5\n",
      "Enter the time :  2\n"
     ]
    },
    {
     "name": "stdout",
     "output_type": "stream",
     "text": [
      "The total interest is: 10.0\n"
     ]
    }
   ],
   "source": [
    "#Q1. Find the Simple Interest on Rs. 200 for 5 years at 5% per year.\n",
    "def totalInterest():\n",
    "    p=float(input(\"Enter the Principal Amount : \"))\n",
    "    r=float(input(\"Enter the rate of interest : \"))\n",
    "    t=float(input(\"Enter the time : \"))\n",
    "    ti=(p*r*t)/100\n",
    "    print(\"The total interest is:\", ti)\n",
    "totalInterest()"
   ]
  },
  {
   "cell_type": "code",
   "execution_count": 2,
   "id": "58bc3ac5-69f4-4b8c-a170-9d2cfc3533d6",
   "metadata": {},
   "outputs": [
    {
     "name": "stdout",
     "output_type": "stream",
     "text": [
      "the total interest is: 10.0\n"
     ]
    }
   ],
   "source": [
    "#OR/Q1. Find the Simple Interest on Rs. 200 for 5 years at 5% per year.\n",
    "def simpleInterest1():\n",
    "    p=100\n",
    "    r=5\n",
    "    t=2\n",
    "    si=(p*r*t)/100\n",
    "    print(\"the total interest is:\",si)\n",
    "simpleInterest1()"
   ]
  },
  {
   "cell_type": "code",
   "execution_count": 3,
   "id": "ba5a5ab0-4da1-4c7f-85f5-208139c97657",
   "metadata": {},
   "outputs": [
    {
     "name": "stdin",
     "output_type": "stream",
     "text": [
      "Enter product code: 3\n",
      "Amount 400\n"
     ]
    },
    {
     "name": "stdout",
     "output_type": "stream",
     "text": [
      "360.0\n"
     ]
    }
   ],
   "source": [
    "#Q2.  A toy vendor supplies three types of toys: Battery Based Toys, Key-based Toys,and Electrical Charging Based Toys.\n",
    "#The vendor gives a discount of 10% on orders for battery-based toys if the order is for more than Rs. 1000.\n",
    "#On orders of more than Rs. 100 for key-based toys, a discount of 5% is given, and a discount of 10% is given on orders\n",
    "#for electrical charging based toys of value more than Rs. 500. Assume that the numeric codes 1,2 and 3 are used for\n",
    "#battery based toys, key-based toys, and electrical charging based toys respectively. Write a program that reads the\n",
    "#product code and the order amount and prints out the net amount that the customer is required to pay after the discount.\n",
    "\n",
    "def productbill():\n",
    "    pid=int(input(\"Enter product code:\"))\n",
    "    amount=float(input(\"Amount\"))\n",
    "    billamount=0.0\n",
    "    if pid==1 and amount>1000:\n",
    "        billAmount=amount-(amount/10)\n",
    "    elif pid==2 and amount>500:\n",
    "        billAmount=amount-(amount/10)\n",
    "    elif pid==3 and amount>100:\n",
    "        billAmount=amount-(amount/10)\n",
    "    else:\n",
    "        billAmount=amount\n",
    "    print(billAmount)\n",
    "productbill()"
   ]
  },
  {
   "cell_type": "code",
   "execution_count": 4,
   "id": "c23888cc-bb97-416b-bfbd-264c46bbcd15",
   "metadata": {},
   "outputs": [
    {
     "name": "stdin",
     "output_type": "stream",
     "text": [
      "Enter the Product code: 1/2/3 3\n"
     ]
    },
    {
     "name": "stdout",
     "output_type": "stream",
     "text": [
      "3.Electrical charging toys\n"
     ]
    },
    {
     "name": "stdin",
     "output_type": "stream",
     "text": [
      "Amount:  400\n"
     ]
    },
    {
     "name": "stdout",
     "output_type": "stream",
     "text": [
      "360.0\n"
     ]
    }
   ],
   "source": [
    "#OR/Q2.  A toy vendor supplies three types of toys: Battery Based Toys, Key-based Toys,and Electrical Charging Based Toys.\n",
    "#The vendor gives a discount of 10% on orders for battery-based toys if the order is for more than Rs. 1000.\n",
    "#On orders of more than Rs. 100 for key-based toys, a discount of 5% is given, and a discount of 10% is given on orders\n",
    "#for electrical charging based toys of value more than Rs. 500. Assume that the numeric codes 1,2 and 3 are used for\n",
    "#battery based toys, key-based toys, and electrical charging based toys respectively. Write a program that reads the\n",
    "#product code and the order amount and prints out the net amount that the customer is required to pay after the discount.\n",
    "\n",
    "def toy_product_calculation():\n",
    "    n=int(input(\"Enter the Product code: 1/2/3\"))\n",
    "    if n==1:\n",
    "        print(\"1.Battery based toys\")\n",
    "    elif n==2:\n",
    "        print(\"2.Key-based toys\")\n",
    "    elif n==3:\n",
    "        print(\"3.Electrical charging toys\")\n",
    "    else:\n",
    "        print(\"No discount available\")\n",
    "        \n",
    "    amount=float(input(\"Amount: \"))\n",
    "    totalPrice=0\n",
    "    if n==1 and amount>1000:\n",
    "        totalPrice=amount*(90/100)\n",
    "    elif n==2 and amount>500:\n",
    "        totalPrice=amount*(90/100)\n",
    "    elif n==3 and amount>100:\n",
    "        totalPrice=amount*(90/100)\n",
    "    else:\n",
    "        totalPrice=amount\n",
    "    print(totalPrice)\n",
    "        \n",
    "toy_product_calculation()"
   ]
  },
  {
   "cell_type": "code",
   "execution_count": 5,
   "id": "8a9794b7-abfd-4f24-98bc-1e366b00460b",
   "metadata": {},
   "outputs": [
    {
     "name": "stdin",
     "output_type": "stream",
     "text": [
      "Enter the year:  1900\n"
     ]
    },
    {
     "name": "stdout",
     "output_type": "stream",
     "text": [
      "1900 is leap year\n"
     ]
    }
   ],
   "source": [
    "#Q3. Python program to check leap year.\n",
    "\n",
    "def leap_year():\n",
    "    year=int(input(\"Enter the year: \"))\n",
    "    if  ((year%4==0) or\n",
    "        (year%100!=0) and\n",
    "        (year%400==0)):\n",
    "        print(year,\"is leap year\")\n",
    "    else:\n",
    "        print(year,\"is not leap year\")\n",
    "leap_year()"
   ]
  },
  {
   "cell_type": "code",
   "execution_count": 6,
   "id": "823913cf-f4e7-4631-85eb-2426590d2091",
   "metadata": {},
   "outputs": [
    {
     "name": "stdin",
     "output_type": "stream",
     "text": [
      "Enter a number :  99\n"
     ]
    },
    {
     "name": "stdout",
     "output_type": "stream",
     "text": [
      "99 is odd number\n"
     ]
    }
   ],
   "source": [
    "#Q4. Using input() function take one number from the user and using ternary operators check whether the number is even or odd\n",
    "\n",
    "def even_odd_ternary():\n",
    "    n=int(input(\"Enter a number : \"))\n",
    "    print(n,\"is even number\" if n%2==0 else \"is odd number\")\n",
    "\n",
    "even_odd_ternary()"
   ]
  },
  {
   "cell_type": "code",
   "execution_count": null,
   "id": "62c5cd44-cedd-4944-9155-c5d6144f36ac",
   "metadata": {},
   "outputs": [],
   "source": []
  }
 ],
 "metadata": {
  "kernelspec": {
   "display_name": "Python 3 (ipykernel)",
   "language": "python",
   "name": "python3"
  },
  "language_info": {
   "codemirror_mode": {
    "name": "ipython",
    "version": 3
   },
   "file_extension": ".py",
   "mimetype": "text/x-python",
   "name": "python",
   "nbconvert_exporter": "python",
   "pygments_lexer": "ipython3",
   "version": "3.12.0"
  }
 },
 "nbformat": 4,
 "nbformat_minor": 5
}
