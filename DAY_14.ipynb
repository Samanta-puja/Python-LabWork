{
 "cells": [
  {
   "cell_type": "code",
   "execution_count": 1,
   "id": "2127c42d-4be1-4c8c-9588-ba48a4d9fc3a",
   "metadata": {},
   "outputs": [
    {
     "name": "stdout",
     "output_type": "stream",
     "text": [
      "Traverse the given list in reverse order:-\n",
      "black\n",
      "white\n",
      "green\n",
      "red\n",
      "-----------------------------------\n",
      "Original List:  ['red', 'green', 'white', 'black']\n",
      "-----------------------------------\n",
      "Index Number - Elements\n",
      "0 - red\n",
      "1 - green\n",
      "2 - white\n",
      "3 - black\n"
     ]
    }
   ],
   "source": [
    "#Q1.  Write a Python program to traverse a given list in reverse order,and print the elements with the original index.\n",
    "#Original list: ['red', 'green', 'white', 'black']\n",
    "#Traverse the said list in reverse order: black white green red\n",
    "\n",
    "def reverseTraverse():\n",
    "    colourList=[\"red\",\"green\",\"white\",\"black\"]\n",
    "    \n",
    "    print(\"Traverse the given list in reverse order:-\")\n",
    "    for i in range(len(colourList)-1,-1,-1): #traverse given list in reverse order\n",
    "        print(colourList[i])\n",
    "        \n",
    "    print(\"-----------------------------------\")\n",
    "    print(\"Original List: \",colourList)  #Original list\n",
    "    print(\"-----------------------------------\")\n",
    "    \n",
    "    print(\"Index Number - Elements\")\n",
    "    for i in range(len(colourList)): #print the elements with the original index\n",
    "        print(i,\"-\",colourList[i])\n",
    "        \n",
    "reverseTraverse()"
   ]
  },
  {
   "cell_type": "code",
   "execution_count": 3,
   "id": "5aa5f11c-639f-4876-96f9-e6c66a50e41b",
   "metadata": {},
   "outputs": [
    {
     "name": "stdout",
     "output_type": "stream",
     "text": [
      "(['John Doe', 101, 'Human Resources', 60000], ['Alice Smith', 102, 'Marketing', 55000], ['Bob Johnson', 103, 'Engineering', 75000])\n",
      "--------------------------------------\n",
      "Employee Records:\n",
      "\n",
      "\n",
      "NAME- John Doe\n",
      "EMPLOYEE ID- 101\n",
      "DEPARTMENT- Human Resources\n",
      "SALARY- 60000\n",
      "\n",
      "\n",
      "NAME- Alice Smith\n",
      "EMPLOYEE ID- 102\n",
      "DEPARTMENT- Marketing\n",
      "SALARY- 55000\n",
      "\n",
      "\n",
      "NAME- Bob Johnson\n",
      "EMPLOYEE ID- 103\n",
      "DEPARTMENT- Engineering\n",
      "SALARY- 75000\n",
      "\n",
      "\n"
     ]
    }
   ],
   "source": [
    "#Q2. Write a python program and iterate the given tuples\n",
    "#Input:\n",
    "#employee1 = (\"John Doe\", 101, \"Human Resources\", 60000)\n",
    "#employee2 = (\"Alice Smith\", 102, \"Marketing\", 55000)\n",
    "#employee3 = (\"Bob Johnson\", 103, \"Engineering\", 75000)\n",
    "\n",
    "\n",
    "def iterate_employee_details():\n",
    "\n",
    "    employee1 = (\"John Doe\", 101, \"Human Resources\", 60000)\n",
    "    employee2 = (\"Alice Smith\", 102, \"Marketing\", 55000)\n",
    "    employee3 = (\"Bob Johnson\", 103, \"Engineering\", 75000)\n",
    "\n",
    "    \n",
    "    total_employee=list(employee1),list(employee2),list(employee3)\n",
    "    print(total_employee)\n",
    "    print(\"--------------------------------------\")\n",
    "    print(\"Employee Records:\")\n",
    "    print(\"\\n\")\n",
    "    for i in total_employee:\n",
    "        print(\"NAME-\",i[0])\n",
    "        print(\"EMPLOYEE ID-\",i[1])\n",
    "        print(\"DEPARTMENT-\",i[2])\n",
    "        print(\"SALARY-\",i[3])\n",
    "        print(\"\\n\")\n",
    "    \n",
    "iterate_employee_details()"
   ]
  },
  {
   "cell_type": "code",
   "execution_count": 4,
   "id": "d913196e-c229-475c-8ccf-9ede09e9984d",
   "metadata": {},
   "outputs": [
    {
     "name": "stdout",
     "output_type": "stream",
     "text": [
      "Common Set: {40, 50, 30}\n",
      "set1: {40, 50, 30}\n"
     ]
    }
   ],
   "source": [
    "#Q3. Write a Python program to Remove items from set1 that are not common to both set1 and set2.\n",
    "#set1={10,20,30,40,50}\n",
    "#set2={30,40,50,60,70}\n",
    "\n",
    "def remove_uncommon_items():\n",
    "    \n",
    "    set1={10,20,30,40,50}\n",
    "    set2={30,40,50,60,70}\n",
    "\n",
    "    #1st we find the common items in set1 and set2\n",
    "    common_set=set1.intersection(set2)\n",
    "    print(\"Common Set:\",common_set)\n",
    "\n",
    "    #Now, we have to remove uncommon items(like: 10,20) from set1.\n",
    "    set1.intersection_update(common_set)\n",
    "    print(\"set1:\",set1)\n",
    "    \n",
    "remove_uncommon_items()"
   ]
  },
  {
   "cell_type": "code",
   "execution_count": 5,
   "id": "561c1efc-3d0e-441a-84d3-64af0f30a0c6",
   "metadata": {},
   "outputs": [
    {
     "name": "stdout",
     "output_type": "stream",
     "text": [
      "{1: 10, 2: 20, 3: 30, 4: 40}\n",
      "{1: 10, 2: 20, 3: 30, 4: 40, 5: 50, 6: 60}\n",
      "Combined Dictionary: {1: 10, 2: 20, 3: 30, 4: 40, 5: 50, 6: 60}\n"
     ]
    }
   ],
   "source": [
    "#Q4. Write a Python script to concatenate the following dictionaries to create a new one.\n",
    "#Sample Dictionary :\n",
    "#dic1={1:10, 2:20}\n",
    "#dic2={3:30, 4:40}\n",
    "#dic3={5:50,6:60}\n",
    "\n",
    "def concatenate_dictionaries():\n",
    "    \n",
    "    dic1={1:10, 2:20}\n",
    "    dic2={3:30, 4:40}\n",
    "    dic3={5:50,6:60}\n",
    "\n",
    "    #Adding dictionary one by one.And update the value in dic1.\n",
    "    dic1.update(dic2)  \n",
    "    print(dic1)\n",
    "    dic1.update(dic3)\n",
    "    print(dic1)\n",
    "\n",
    "    #Another process to add all dictionaries at once. and stores in new dictionary.\n",
    "    combined_dict = {**dic1, **dic2, **dic3}\n",
    "    print(\"Combined Dictionary:\", combined_dict)\n",
    "\n",
    "concatenate_dictionaries()"
   ]
  },
  {
   "cell_type": "code",
   "execution_count": null,
   "id": "0dfdf9d4-9934-43ca-8812-e2a861e89201",
   "metadata": {},
   "outputs": [],
   "source": []
  }
 ],
 "metadata": {
  "kernelspec": {
   "display_name": "Python 3 (ipykernel)",
   "language": "python",
   "name": "python3"
  },
  "language_info": {
   "codemirror_mode": {
    "name": "ipython",
    "version": 3
   },
   "file_extension": ".py",
   "mimetype": "text/x-python",
   "name": "python",
   "nbconvert_exporter": "python",
   "pygments_lexer": "ipython3",
   "version": "3.12.0"
  }
 },
 "nbformat": 4,
 "nbformat_minor": 5
}
