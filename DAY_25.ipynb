{
 "cells": [
  {
   "cell_type": "code",
   "execution_count": 1,
   "id": "e72898d8-6f87-4157-936d-e0728fb6ab23",
   "metadata": {},
   "outputs": [
    {
     "name": "stdout",
     "output_type": "stream",
     "text": [
      "Myhousehold Expenses:-\n",
      "Groceries          500\n",
      "Utilities          200\n",
      "Rent              1200\n",
      "Transportation     300\n",
      "Entertainment      150\n",
      "dtype: int64\n"
     ]
    }
   ],
   "source": [
    "\"\"\"Q1.  Suppose you want to track and analyse your household expenses for a month.You have recorded the expenses for \n",
    "various categories, such as groceries, utilities, rent, transportation, and entertainment. \n",
    "You can represent this expense data using a Pandas Series.\n",
    " Input:\n",
    "categories = ['Groceries', 'Utilities', 'Rent', 'Transportation', 'Entertainment']\n",
    "expenses = [500, 200, 1200, 300, 150]\"\"\"\n",
    "\n",
    "import pandas as pd\n",
    "\n",
    "def show_myhousehold_expenses():\n",
    "    #input datas\n",
    "    categories= ['Groceries', 'Utilities', 'Rent', 'Transportation', 'Entertainment']\n",
    "    expenses= [500, 200, 1200, 300, 150]\n",
    "    #create pandas series to show data in series\n",
    "    myhousehold_expenses=pd.Series(expenses,categories)\n",
    "    #show Series\n",
    "    print(\"Myhousehold Expenses:-\")\n",
    "    print(myhousehold_expenses)\n",
    "\n",
    "show_myhousehold_expenses()"
   ]
  },
  {
   "cell_type": "code",
   "execution_count": 3,
   "id": "9c0fb2cd-a315-4a6d-872b-9b0c0f309c29",
   "metadata": {},
   "outputs": [
    {
     "name": "stdout",
     "output_type": "stream",
     "text": [
      "Electricity Usage:\n",
      "January      350\n",
      "February     320\n",
      "March        310\n",
      "April        330\n",
      "May          340\n",
      "June         370\n",
      "July         380\n",
      "August       360\n",
      "September    350\n",
      "October      330\n",
      "November     320\n",
      "December     330\n",
      "dtype: int64\n",
      "------------------------------\n",
      "Gas Usage:\n",
      "January      20\n",
      "February     18\n",
      "March        16\n",
      "April        15\n",
      "May          12\n",
      "June         10\n",
      "July          8\n",
      "August        9\n",
      "September    12\n",
      "October      15\n",
      "November     17\n",
      "December     19\n",
      "dtype: int64\n"
     ]
    }
   ],
   "source": [
    "\"\"\"Q2.Suppose you want to track and analyze the monthly energy consumption in your home.You have recorded the monthly energy usage for electricity and gas over a year, and you want to represent this data using Pandas Series.\n",
    "Input:\n",
    "Months in a year months = ['January', 'February', 'March', 'April', 'May', 'June','July', 'August', 'September', 'October', 'November', 'December']\n",
    "Monthly energy consumption data (example data in kilowatt-hours for electricity and therms for gas)\n",
    "electricity_usage = [350, 320, 310, 330, 340, 370, 380, 360, 350, 330, 320, 330]\n",
    "gas_usage = [20, 18, 16, 15, 12, 10, 8, 9, 12, 15, 17, 19]\"\"\"\n",
    "\n",
    "import pandas as pd\n",
    "\n",
    "def show_monthly_energy_consumption():\n",
    "    #input datas\n",
    "    months=['January','February','March','April','May','June','July',\n",
    "            'August','September','October','November','December']\n",
    "    electricity_usage=[350,320,310,330,340,370,380,360,350,330,320,330]\n",
    "    gas_usage = [20, 18, 16, 15, 12, 10, 8, 9, 12, 15, 17, 19]\n",
    "\n",
    "    #create Pandas Series for electricity_usage\n",
    "    electricity_series = pd.Series(electricity_usage, index=months )\n",
    "    #create Pandas Series for gas_usage\n",
    "    gas_series = pd.Series(gas_usage, index=months)\n",
    "\n",
    "    # show the Pandas Series\n",
    "    print(\"Electricity Usage:\")\n",
    "    print(electricity_series)\n",
    "    print(\"------------------------------\")\n",
    "    print(\"Gas Usage:\")\n",
    "    print(gas_series)\n",
    "\n",
    "show_monthly_energy_consumption()"
   ]
  },
  {
   "cell_type": "code",
   "execution_count": null,
   "id": "48927808-bd32-4e32-b1aa-f2e5093f2ee6",
   "metadata": {},
   "outputs": [],
   "source": []
  }
 ],
 "metadata": {
  "kernelspec": {
   "display_name": "Python 3 (ipykernel)",
   "language": "python",
   "name": "python3"
  },
  "language_info": {
   "codemirror_mode": {
    "name": "ipython",
    "version": 3
   },
   "file_extension": ".py",
   "mimetype": "text/x-python",
   "name": "python",
   "nbconvert_exporter": "python",
   "pygments_lexer": "ipython3",
   "version": "3.12.0"
  }
 },
 "nbformat": 4,
 "nbformat_minor": 5
}
