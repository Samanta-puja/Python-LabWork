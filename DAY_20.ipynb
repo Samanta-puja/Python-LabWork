{
 "cells": [
  {
   "cell_type": "code",
   "execution_count": 1,
   "id": "441aa73c-7668-48a3-9aee-4085894ed1b9",
   "metadata": {},
   "outputs": [
    {
     "name": "stdout",
     "output_type": "stream",
     "text": [
      "[0, 0, 0]\n"
     ]
    }
   ],
   "source": [
    "#Q1.  Determine which products in a store are out of stock (quantity is 0).\n",
    "#Input: inventory = np.array([10, 0, 5, 0, 20, 0])\n",
    "\n",
    "import numpy as np\n",
    "\n",
    "def out_of_stock_list():\n",
    "    inventory = np.array([10,0,5,0,20,0])\n",
    "    out_of_stock_list=[]\n",
    "    i=0\n",
    "    while i<len(inventory):\n",
    "        if inventory[i]==0:\n",
    "            out_of_stock_list.append(inventory[i])\n",
    "        i=i+1\n",
    "    print (out_of_stock_list)\n",
    "out_of_stock_list()"
   ]
  },
  {
   "cell_type": "code",
   "execution_count": 3,
   "id": "ab944e59-c545-41d1-8a96-192cbfc7ac55",
   "metadata": {},
   "outputs": [
    {
     "name": "stdout",
     "output_type": "stream",
     "text": [
      "Hot Days\n",
      "Days Temperature\n",
      " 2 36.8\n",
      " 4 38.7\n",
      " 8 37.2\n",
      "Cold Days\n",
      "Days Temperature\n"
     ]
    }
   ],
   "source": [
    "#Q2. Suppose you have a dataset containing daily temperature readings for a city,\n",
    "#and you want to identify days with extreme temperature conditions.\n",
    "#Find days where the temperature either exceeded 35 degrees Celsius (hot day)\n",
    "#or dropped below 5 degrees Celsius (cold day).\n",
    "#Input: temperatures = np.array([32.5, 34.2, 36.8, 29.3, 31.0, 38.7, 23.1, 18.5, 22.8, 37.2])\n",
    "# Import numpy as np\n",
    "\n",
    "import numpy as np\n",
    "\n",
    "def temp_hot_cold():\n",
    "    temp = np.array([34.2, 36.8, 29.3,38.7, 23.1, 18.5, 22.8, 37.20])\n",
    "    \n",
    "    #when Temperature exceeded 35 degrees Celsius (hot day)\n",
    "    print(\"Hot Days\")\n",
    "    print(\"Days Temperature\")\n",
    "    for i in range(len(temp)):\n",
    "        if temp[i]>35:\n",
    "            print(\" \"+str(i+1)+\" \"+str(temp[i]))\n",
    "            \n",
    "    #when Temperature dropped below 5 degrees Celsius (cold day)\n",
    "    print(\"Cold Days\")\n",
    "    print(\"Days Temperature\")\n",
    "    for i in range(len(temp)):\n",
    "        if temp[i]<5:\n",
    "            print(\" \"+str(i+1)+\" \"+str(temp[i]))\n",
    "    \n",
    "temp_hot_cold()"
   ]
  },
  {
   "cell_type": "code",
   "execution_count": 4,
   "id": "8c717eef-32aa-499b-a4dc-49aad9f7263b",
   "metadata": {},
   "outputs": [
    {
     "name": "stdout",
     "output_type": "stream",
     "text": [
      "Combined Employee Data:\n",
      "Employee ID: 101, Name: John Doe, Type: Full-Time, Salary: 55000\n",
      "\n",
      "Employee ID: 102, Name: Jane Smith, Type: Full-Time, Salary: 60000\n",
      "\n",
      "Employee ID: 103, Name: Mike Johnson, Type: Full-Time, Salary: 52000\n",
      "\n",
      "Employee ID: 201, Name: Alice Brown, Type: Part-Time, Salary: 25000\n",
      "\n",
      "Employee ID: 202, Name: Bob Wilson, Type: Part-Time, Salary: 28000\n",
      "\n",
      "Employee ID: 203, Name: Emily Davis, Type: Part-Time, Salary: 22000\n",
      "\n"
     ]
    }
   ],
   "source": [
    "#Q3.Suppose you have two sets of employee data—one containing information about full-time employees and another containing information about part-time\n",
    "#employees.You want to combine this data to create a comprehensive employee dataset for HR analysis.\n",
    "#input:\n",
    "# Employee data for full-time employees\n",
    "#full_time_employees = np.array([ [101, 'John Doe', 'Full-Time', 55000],[102, 'Jane Smith', 'Full-Time', 60000],[103, 'Mike Johnson', 'Full-Time', 52000] ])\n",
    "# Employee data for part-time employees\n",
    "#part_time_employees = np.array([ [201, 'Alice Brown', 'Part-Time', 25000],[202, 'Bob Wilson', 'Part-Time', 28000], [203, 'Emily Davis', 'Part-Time', 22000]])\n",
    "\n",
    "\n",
    "import numpy as np\n",
    "\n",
    "def combinedEmployeeData():\n",
    "    full_time_employees = np.array([ [101, 'John Doe', 'Full-Time', 55000],\n",
    "                                 [102, 'Jane Smith', 'Full-Time', 60000],\n",
    "                                 [103, 'Mike Johnson', 'Full-Time', 52000] ])\n",
    "    part_time_employees = np.array([ [201, 'Alice Brown', 'Part-Time', 25000],\n",
    "                                 [202, 'Bob Wilson', 'Part-Time', 28000],\n",
    "                                 [203, 'Emily Davis', 'Part-Time', 22000]])\n",
    "    \n",
    "    print(\"Combined Employee Data:\")\n",
    "    for list in full_time_employees:\n",
    "        print(\"Employee ID: \"+str(list[0])+\", \"+\"Name: \"+list[1]+\", \"+\"Type: \"+list[2]+\", \"+\"Salary: \"+list[3])\n",
    "        print()      \n",
    "    for list in part_time_employees:\n",
    "        print(\"Employee ID: \"+str(list[0])+\", \"+\"Name: \"+list[1]+\", \"+\"Type: \"+list[2]+\", \"+\"Salary: \"+list[3])\n",
    "        print()\n",
    "\n",
    "combinedEmployeeData()"
   ]
  },
  {
   "cell_type": "code",
   "execution_count": null,
   "id": "1aad0d65-ae83-4a52-9c93-9ac26b7af08b",
   "metadata": {},
   "outputs": [],
   "source": []
  }
 ],
 "metadata": {
  "kernelspec": {
   "display_name": "Python 3 (ipykernel)",
   "language": "python",
   "name": "python3"
  },
  "language_info": {
   "codemirror_mode": {
    "name": "ipython",
    "version": 3
   },
   "file_extension": ".py",
   "mimetype": "text/x-python",
   "name": "python",
   "nbconvert_exporter": "python",
   "pygments_lexer": "ipython3",
   "version": "3.12.0"
  }
 },
 "nbformat": 4,
 "nbformat_minor": 5
}
